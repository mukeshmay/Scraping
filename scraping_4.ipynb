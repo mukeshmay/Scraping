{
 "cells": [
  {
   "cell_type": "code",
   "execution_count": 1,
   "metadata": {},
   "outputs": [],
   "source": [
    "from bs4 import BeautifulSoup"
   ]
  },
  {
   "cell_type": "code",
   "execution_count": 2,
   "metadata": {},
   "outputs": [],
   "source": [
    "import requests"
   ]
  },
  {
   "cell_type": "code",
   "execution_count": 3,
   "metadata": {},
   "outputs": [],
   "source": [
    "import pandas as pd"
   ]
  },
  {
   "cell_type": "code",
   "execution_count": 4,
   "metadata": {},
   "outputs": [],
   "source": [
    "url = \"https://boston.craigslist.org/search/npo\""
   ]
  },
  {
   "cell_type": "code",
   "execution_count": 5,
   "metadata": {},
   "outputs": [
    {
     "name": "stdout",
     "output_type": "stream",
     "text": [
      "https://boston.craigslist.org/search/npo/search/npo?s=120\n",
      "https://boston.craigslist.org/search/npo/search/npo?s=240\n",
      "total jobs:  242\n"
     ]
    }
   ],
   "source": [
    "npo_jobs = {}\n",
    "job_no = 0\n",
    "while True:\n",
    "    \n",
    "    response = requests.get(url)\n",
    "    data = response.text\n",
    "    soup = BeautifulSoup(data, 'html.parser')\n",
    "    jobs = soup.find_all(\"p\", {\"class\":\"result-info\"})\n",
    "    \n",
    "    for job in jobs:\n",
    "        \n",
    "        title = job.find(\"a\", {\"class\": \"result-title\"}).text\n",
    "        location_tag = job.find(\"span\", {\"class\": \"result-hood\"})\n",
    "        location = location_tag.text[2:-1] if location_tag else \"N/A\"\n",
    "        date = job.find(\"time\", {\"class\": \"result-date\"}).text\n",
    "        link = job.find(\"a\", {\"class\": \"result-title\"}).get(\"href\")\n",
    "        job_response = requests.get(link)\n",
    "        job_data = job_response.text\n",
    "        job_soup = BeautifulSoup(job_data, \"html.parser\")\n",
    "        job_description = job_soup.find(\"section\", {\"id\":\"postingbody\"}).text\n",
    "        job_attributes_tag = job_soup.find(\"p\", {\"class\": \"attrgroup\"})\n",
    "        job_attributes = job_attributes_tag.text if location_tag else \"N/A\"\n",
    "        \n",
    "        job_no+=1\n",
    "        npo_jobs[job_no] = {title, location, date, link, job_attributes, job_description}\n",
    "        \n",
    "        #print(\"job Title: \", title, \"\\nLocation\", location, \"\\nDate\", date, \"\\nLink\", link, \"\\nJob attributes\", job_attributes, \"\\nJob Description\", job_description, \"\\n---\")\n",
    "        \n",
    "    url_tag = soup.find(\"a\", {\"title\":\"next page\"})\n",
    "    if url_tag.get(\"href\"):\n",
    "        url = \"https://boston.craigslist.org/search/npo\" + url_tag.get(\"href\")\n",
    "        print(url)\n",
    "    else:\n",
    "        break\n",
    "            \n",
    "print(\"total jobs: \", job_no)\n",
    "npo_jobs_df = pd.DataFrame.from_dict(npo_jobs, orient = \"index\", columns = [\"job title\", \"Location\", \"Date\", \"Link\", \"Job Attributes\", \"Job Description\"])\n"
   ]
  },
  {
   "cell_type": "code",
   "execution_count": 6,
   "metadata": {},
   "outputs": [
    {
     "data": {
      "text/html": [
       "<div>\n",
       "<style scoped>\n",
       "    .dataframe tbody tr th:only-of-type {\n",
       "        vertical-align: middle;\n",
       "    }\n",
       "\n",
       "    .dataframe tbody tr th {\n",
       "        vertical-align: top;\n",
       "    }\n",
       "\n",
       "    .dataframe thead th {\n",
       "        text-align: right;\n",
       "    }\n",
       "</style>\n",
       "<table border=\"1\" class=\"dataframe\">\n",
       "  <thead>\n",
       "    <tr style=\"text-align: right;\">\n",
       "      <th></th>\n",
       "      <th>job title</th>\n",
       "      <th>Location</th>\n",
       "      <th>Date</th>\n",
       "      <th>Link</th>\n",
       "      <th>Job Attributes</th>\n",
       "      <th>Job Description</th>\n",
       "    </tr>\n",
       "  </thead>\n",
       "  <tbody>\n",
       "    <tr>\n",
       "      <th>1</th>\n",
       "      <td>https://boston.craigslist.org/gbs/npo/d/organi...</td>\n",
       "      <td>*ORGANIZE YOUR COMMUNITY. STOP ATTACKS ON HEAL...</td>\n",
       "      <td>Jun 10</td>\n",
       "      <td>\\n\\nQR Code Link to This Post\\n\\n\\n\\n\\n\\n\\nApp...</td>\n",
       "      <td>South Station</td>\n",
       "      <td>\\ncompensation: $12-$16/hour\\n\\nemployment typ...</td>\n",
       "    </tr>\n",
       "    <tr>\n",
       "      <th>2</th>\n",
       "      <td>\\n\\nQR Code Link to This Post\\n\\n\\nCLICK THE P...</td>\n",
       "      <td>Jun 10</td>\n",
       "      <td>Harvard Square</td>\n",
       "      <td>\\ncompensation: $12-$16/hr\\n\\nemployment type:...</td>\n",
       "      <td>https://boston.craigslist.org/gbs/npo/d/cambri...</td>\n",
       "      <td>Find a career that matters🌏HELP CHANGE THE WOR...</td>\n",
       "    </tr>\n",
       "    <tr>\n",
       "      <th>3</th>\n",
       "      <td>Jun 10</td>\n",
       "      <td>PART TIME MOBILITY</td>\n",
       "      <td>BOSTON, MA</td>\n",
       "      <td>https://boston.craigslist.org/bmw/npo/d/boston...</td>\n",
       "      <td>\\n\\nQR Code Link to This Post\\n\\n\\nParatransit...</td>\n",
       "      <td>\\ncompensation: $18.00-$20.00 per hour.  Posit...</td>\n",
       "    </tr>\n",
       "    <tr>\n",
       "      <th>4</th>\n",
       "      <td>Boston</td>\n",
       "      <td>**SUMMER JOBS** WORK THAT MATTERS-AVG $480-750/WK</td>\n",
       "      <td>Jun 10</td>\n",
       "      <td>https://boston.craigslist.org/gbs/npo/d/boston...</td>\n",
       "      <td>\\ncompensation: 12-17$/hour\\n\\nemployment type...</td>\n",
       "      <td>\\n\\nQR Code Link to This Post\\n\\n\\n\\n\\n\\n\\n\\n\\n\\n</td>\n",
       "    </tr>\n",
       "    <tr>\n",
       "      <th>5</th>\n",
       "      <td>N/A</td>\n",
       "      <td>Jun 10</td>\n",
       "      <td>Development Director</td>\n",
       "      <td>\\n\\nQR Code Link to This Post\\n\\n\\nDEVELOPMENT...</td>\n",
       "      <td>https://boston.craigslist.org/nos/npo/d/salem-...</td>\n",
       "      <td>None</td>\n",
       "    </tr>\n",
       "  </tbody>\n",
       "</table>\n",
       "</div>"
      ],
      "text/plain": [
       "                                           job title  \\\n",
       "1  https://boston.craigslist.org/gbs/npo/d/organi...   \n",
       "2  \\n\\nQR Code Link to This Post\\n\\n\\nCLICK THE P...   \n",
       "3                                             Jun 10   \n",
       "4                                             Boston   \n",
       "5                                                N/A   \n",
       "\n",
       "                                            Location                  Date  \\\n",
       "1  *ORGANIZE YOUR COMMUNITY. STOP ATTACKS ON HEAL...                Jun 10   \n",
       "2                                             Jun 10        Harvard Square   \n",
       "3                                 PART TIME MOBILITY            BOSTON, MA   \n",
       "4  **SUMMER JOBS** WORK THAT MATTERS-AVG $480-750/WK                Jun 10   \n",
       "5                                             Jun 10  Development Director   \n",
       "\n",
       "                                                Link  \\\n",
       "1  \\n\\nQR Code Link to This Post\\n\\n\\n\\n\\n\\n\\nApp...   \n",
       "2  \\ncompensation: $12-$16/hr\\n\\nemployment type:...   \n",
       "3  https://boston.craigslist.org/bmw/npo/d/boston...   \n",
       "4  https://boston.craigslist.org/gbs/npo/d/boston...   \n",
       "5  \\n\\nQR Code Link to This Post\\n\\n\\nDEVELOPMENT...   \n",
       "\n",
       "                                      Job Attributes  \\\n",
       "1                                      South Station   \n",
       "2  https://boston.craigslist.org/gbs/npo/d/cambri...   \n",
       "3  \\n\\nQR Code Link to This Post\\n\\n\\nParatransit...   \n",
       "4  \\ncompensation: 12-17$/hour\\n\\nemployment type...   \n",
       "5  https://boston.craigslist.org/nos/npo/d/salem-...   \n",
       "\n",
       "                                     Job Description  \n",
       "1  \\ncompensation: $12-$16/hour\\n\\nemployment typ...  \n",
       "2  Find a career that matters🌏HELP CHANGE THE WOR...  \n",
       "3  \\ncompensation: $18.00-$20.00 per hour.  Posit...  \n",
       "4  \\n\\nQR Code Link to This Post\\n\\n\\n\\n\\n\\n\\n\\n\\n\\n  \n",
       "5                                               None  "
      ]
     },
     "execution_count": 6,
     "metadata": {},
     "output_type": "execute_result"
    }
   ],
   "source": [
    "npo_jobs_df.head()"
   ]
  },
  {
   "cell_type": "code",
   "execution_count": 7,
   "metadata": {},
   "outputs": [],
   "source": [
    "npo_jobs_df.to_csv(\"npo_jobs_details.csv\")"
   ]
  },
  {
   "cell_type": "code",
   "execution_count": null,
   "metadata": {},
   "outputs": [],
   "source": []
  }
 ],
 "metadata": {
  "kernelspec": {
   "display_name": "Python 3",
   "language": "python",
   "name": "python3"
  },
  "language_info": {
   "codemirror_mode": {
    "name": "ipython",
    "version": 3
   },
   "file_extension": ".py",
   "mimetype": "text/x-python",
   "name": "python",
   "nbconvert_exporter": "python",
   "pygments_lexer": "ipython3",
   "version": "3.6.5"
  }
 },
 "nbformat": 4,
 "nbformat_minor": 2
}
